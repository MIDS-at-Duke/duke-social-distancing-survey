{
 "cells": [
  {
   "cell_type": "markdown",
   "metadata": {},
   "source": [
    "# Analysis of Week 1 - Week 2 Changes"
   ]
  },
  {
   "cell_type": "code",
   "execution_count": 2,
   "metadata": {},
   "outputs": [],
   "source": [
    "import pandas as pd\n",
    "import numpy as np\n",
    "import statsmodels.formula.api as smf \n",
    "from statsmodels.stats.weightstats import DescrStatsW\n",
    "\n",
    "svy = pd.read_csv('../20_analysis_datasets/'\n",
    "                  'merged_surveys_w_analysis_vars.csv')"
   ]
  },
  {
   "cell_type": "code",
   "execution_count": 3,
   "metadata": {},
   "outputs": [
    {
     "data": {
      "text/plain": [
       "week6    2004\n",
       "week4    1653\n",
       "Name: week, dtype: int64"
      ]
     },
     "execution_count": 3,
     "metadata": {},
     "output_type": "execute_result"
    }
   ],
   "source": [
    "svy = svy[svy.week.isin(['week4', 'week6'])]\n",
    "svy.week.value_counts()"
   ]
  },
  {
   "cell_type": "markdown",
   "metadata": {},
   "source": [
    "## Behavior by Sub-population"
   ]
  },
  {
   "cell_type": "code",
   "execution_count": 4,
   "metadata": {},
   "outputs": [
    {
     "name": "stdout",
     "output_type": "stream",
     "text": [
      "                            WLS Regression Results                            \n",
      "==============================================================================\n",
      "Dep. Variable:          ever_in_group   R-squared:                       0.027\n",
      "Model:                            WLS   Adj. R-squared:                  0.026\n",
      "Method:                 Least Squares   F-statistic:                     44.42\n",
      "Date:                Tue, 19 May 2020   Prob (F-statistic):           9.30e-20\n",
      "Time:                        09:01:24   Log-Likelihood:                -2520.3\n",
      "No. Observations:                3237   AIC:                             5047.\n",
      "Df Residuals:                    3234   BIC:                             5065.\n",
      "Df Model:                           2                                         \n",
      "Covariance Type:            nonrobust                                         \n",
      "=======================================================================================\n",
      "                          coef    std err          t      P>|t|      [0.025      0.975]\n",
      "---------------------------------------------------------------------------------------\n",
      "Intercept               0.3214      0.014     23.568      0.000       0.295       0.348\n",
      "week6[T.True]          -0.0007      0.015     -0.044      0.965      -0.031       0.029\n",
      "live_survey[T.True]    -0.1433      0.015     -9.406      0.000      -0.173      -0.113\n",
      "==============================================================================\n",
      "Omnibus:                     1007.379   Durbin-Watson:                   1.966\n",
      "Prob(Omnibus):                  0.000   Jarque-Bera (JB):             2727.900\n",
      "Skew:                           1.663   Prob(JB):                         0.00\n",
      "Kurtosis:                       6.026   Cond. No.                         3.34\n",
      "==============================================================================\n",
      "\n",
      "Warnings:\n",
      "[1] Standard Errors assume that the covariance matrix of the errors is correctly specified.\n",
      "                              WLS Regression Results                              \n",
      "==================================================================================\n",
      "Dep. Variable:     any_close_interactions   R-squared:                       0.005\n",
      "Model:                                WLS   Adj. R-squared:                  0.004\n",
      "Method:                     Least Squares   F-statistic:                     7.015\n",
      "Date:                    Tue, 19 May 2020   Prob (F-statistic):           0.000913\n",
      "Time:                            09:01:24   Log-Likelihood:                -2333.6\n",
      "No. Observations:                    2931   AIC:                             4673.\n",
      "Df Residuals:                        2928   BIC:                             4691.\n",
      "Df Model:                               2                                         \n",
      "Covariance Type:                nonrobust                                         \n",
      "=======================================================================================\n",
      "                          coef    std err          t      P>|t|      [0.025      0.975]\n",
      "---------------------------------------------------------------------------------------\n",
      "Intercept               0.2228      0.014     15.751      0.000       0.195       0.251\n",
      "week6[T.True]           0.0550      0.016      3.361      0.001       0.023       0.087\n",
      "live_survey[T.True]     0.0297      0.017      1.799      0.072      -0.003       0.062\n",
      "==============================================================================\n",
      "Omnibus:                      865.433   Durbin-Watson:                   1.991\n",
      "Prob(Omnibus):                  0.000   Jarque-Bera (JB):             2188.433\n",
      "Skew:                           1.607   Prob(JB):                         0.00\n",
      "Kurtosis:                       5.754   Cond. No.                         3.22\n",
      "==============================================================================\n",
      "\n",
      "Warnings:\n",
      "[1] Standard Errors assume that the covariance matrix of the errors is correctly specified.\n",
      "                            WLS Regression Results                            \n",
      "==============================================================================\n",
      "Dep. Variable:     close_interactions   R-squared:                       0.011\n",
      "Model:                            WLS   Adj. R-squared:                  0.010\n",
      "Method:                 Least Squares   F-statistic:                     15.71\n",
      "Date:                Tue, 19 May 2020   Prob (F-statistic):           1.63e-07\n",
      "Time:                        09:01:24   Log-Likelihood:                -5550.9\n",
      "No. Observations:                2931   AIC:                         1.111e+04\n",
      "Df Residuals:                    2928   BIC:                         1.113e+04\n",
      "Df Model:                           2                                         \n",
      "Covariance Type:            nonrobust                                         \n",
      "=======================================================================================\n",
      "                          coef    std err          t      P>|t|      [0.025      0.975]\n",
      "---------------------------------------------------------------------------------------\n",
      "Intercept               0.4396      0.042     10.369      0.000       0.356       0.523\n",
      "week6[T.True]           0.2333      0.049      4.753      0.000       0.137       0.330\n",
      "live_survey[T.True]     0.1573      0.050      3.176      0.002       0.060       0.254\n",
      "==============================================================================\n",
      "Omnibus:                     2616.608   Durbin-Watson:                   1.983\n",
      "Prob(Omnibus):                  0.000   Jarque-Bera (JB):           105762.447\n",
      "Skew:                           4.157   Prob(JB):                         0.00\n",
      "Kurtosis:                      31.230   Cond. No.                         3.22\n",
      "==============================================================================\n",
      "\n",
      "Warnings:\n",
      "[1] Standard Errors assume that the covariance matrix of the errors is correctly specified.\n",
      "                            WLS Regression Results                            \n",
      "==============================================================================\n",
      "Dep. Variable:        someone_working   R-squared:                       0.019\n",
      "Model:                            WLS   Adj. R-squared:                  0.018\n",
      "Method:                 Least Squares   F-statistic:                     30.74\n",
      "Date:                Tue, 19 May 2020   Prob (F-statistic):           5.94e-14\n",
      "Time:                        09:01:24   Log-Likelihood:                -2960.2\n",
      "No. Observations:                3236   AIC:                             5926.\n",
      "Df Residuals:                    3233   BIC:                             5945.\n",
      "Df Model:                           2                                         \n",
      "Covariance Type:            nonrobust                                         \n",
      "=======================================================================================\n",
      "                          coef    std err          t      P>|t|      [0.025      0.975]\n",
      "---------------------------------------------------------------------------------------\n",
      "Intercept               0.3948      0.016     25.264      0.000       0.364       0.425\n",
      "week6[T.True]           0.0221      0.018      1.260      0.208      -0.012       0.056\n",
      "live_survey[T.True]     0.1366      0.017      7.805      0.000       0.102       0.171\n",
      "==============================================================================\n",
      "Omnibus:                      120.469   Durbin-Watson:                   1.951\n",
      "Prob(Omnibus):                  0.000   Jarque-Bera (JB):              130.288\n",
      "Skew:                           0.478   Prob(JB):                     5.11e-29\n",
      "Kurtosis:                       2.774   Cond. No.                         3.33\n",
      "==============================================================================\n",
      "\n",
      "Warnings:\n",
      "[1] Standard Errors assume that the covariance matrix of the errors is correctly specified.\n"
     ]
    }
   ],
   "source": [
    "for outcome in ['ever_in_group', 'any_close_interactions', \n",
    "                'close_interactions', 'someone_working']:\n",
    "    model = smf.wls(f'{outcome} ~ week6 + live_survey', \n",
    "                    svy, weights=svy['weight']).fit()\n",
    "    print(model.summary())"
   ]
  },
  {
   "cell_type": "markdown",
   "metadata": {},
   "source": [
    "## Republicans"
   ]
  },
  {
   "cell_type": "code",
   "execution_count": 7,
   "metadata": {},
   "outputs": [
    {
     "data": {
      "text/plain": [
       "Democrat                1351\n",
       "Republican               851\n",
       "Other / Unaffiliated     843\n",
       "Name: DEMOGRAPHICS - PARTY ON FILE, dtype: int64"
      ]
     },
     "execution_count": 7,
     "metadata": {},
     "output_type": "execute_result"
    }
   ],
   "source": [
    "svy['DEMOGRAPHICS - PARTY ON FILE'].value_counts()"
   ]
  },
  {
   "cell_type": "code",
   "execution_count": 19,
   "metadata": {},
   "outputs": [],
   "source": [
    "r_svy = svy[svy['DEMOGRAPHICS - PARTY ON FILE'] == 'Republican'].copy()"
   ]
  },
  {
   "cell_type": "code",
   "execution_count": 25,
   "metadata": {},
   "outputs": [],
   "source": [
    "d_svy = svy[svy['DEMOGRAPHICS - PARTY ON FILE'] == 'Democrat'].copy()"
   ]
  },
  {
   "cell_type": "code",
   "execution_count": 28,
   "metadata": {},
   "outputs": [],
   "source": [
    "partisans = svy[svy['DEMOGRAPHICS - PARTY ON FILE'].isin(['Democrat', 'Republican'])].copy()\n",
    "partisans['repub'] = svy['DEMOGRAPHICS - PARTY ON FILE'] == 'Republican'"
   ]
  },
  {
   "cell_type": "code",
   "execution_count": 30,
   "metadata": {},
   "outputs": [
    {
     "name": "stdout",
     "output_type": "stream",
     "text": [
      "                            WLS Regression Results                            \n",
      "==============================================================================\n",
      "Dep. Variable:          ever_in_group   R-squared:                       0.020\n",
      "Model:                            WLS   Adj. R-squared:                  0.018\n",
      "Method:                 Least Squares   F-statistic:                     9.491\n",
      "Date:                Tue, 19 May 2020   Prob (F-statistic):           1.35e-07\n",
      "Time:                        09:39:07   Log-Likelihood:                -1485.2\n",
      "No. Observations:                1893   AIC:                             2980.\n",
      "Df Residuals:                    1888   BIC:                             3008.\n",
      "Df Model:                           4                                         \n",
      "Covariance Type:            nonrobust                                         \n",
      "===============================================================================================\n",
      "                                  coef    std err          t      P>|t|      [0.025      0.975]\n",
      "-----------------------------------------------------------------------------------------------\n",
      "Intercept                       0.3279      0.022     15.140      0.000       0.285       0.370\n",
      "week6[T.True]                  -0.0262      0.028     -0.935      0.350      -0.081       0.029\n",
      "repub[T.True]                  -0.0259      0.031     -0.825      0.410      -0.088       0.036\n",
      "live_survey[T.True]            -0.1226      0.022     -5.480      0.000      -0.166      -0.079\n",
      "week6[T.True]:repub[T.True]     0.0914      0.042      2.187      0.029       0.009       0.173\n",
      "==============================================================================\n",
      "Omnibus:                      437.671   Durbin-Watson:                   1.976\n",
      "Prob(Omnibus):                  0.000   Jarque-Bera (JB):              847.863\n",
      "Skew:                           1.386   Prob(JB):                    7.74e-185\n",
      "Kurtosis:                       4.750   Cond. No.                         7.22\n",
      "==============================================================================\n",
      "\n",
      "Warnings:\n",
      "[1] Standard Errors assume that the covariance matrix of the errors is correctly specified.\n",
      "                              WLS Regression Results                              \n",
      "==================================================================================\n",
      "Dep. Variable:     any_close_interactions   R-squared:                       0.009\n",
      "Model:                                WLS   Adj. R-squared:                  0.006\n",
      "Method:                     Least Squares   F-statistic:                     3.818\n",
      "Date:                    Tue, 19 May 2020   Prob (F-statistic):            0.00428\n",
      "Time:                            09:39:07   Log-Likelihood:                -1310.5\n",
      "No. Observations:                    1751   AIC:                             2631.\n",
      "Df Residuals:                        1746   BIC:                             2658.\n",
      "Df Model:                               4                                         \n",
      "Covariance Type:                nonrobust                                         \n",
      "===============================================================================================\n",
      "                                  coef    std err          t      P>|t|      [0.025      0.975]\n",
      "-----------------------------------------------------------------------------------------------\n",
      "Intercept                       0.2440      0.021     11.597      0.000       0.203       0.285\n",
      "week6[T.True]                   0.0256      0.028      0.927      0.354      -0.028       0.080\n",
      "repub[T.True]                  -0.0522      0.031     -1.662      0.097      -0.114       0.009\n",
      "live_survey[T.True]            -0.0119      0.023     -0.510      0.610      -0.058       0.034\n",
      "week6[T.True]:repub[T.True]     0.0931      0.042      2.204      0.028       0.010       0.176\n",
      "==============================================================================\n",
      "Omnibus:                      437.420   Durbin-Watson:                   2.053\n",
      "Prob(Omnibus):                  0.000   Jarque-Bera (JB):              877.802\n",
      "Skew:                           1.476   Prob(JB):                    2.44e-191\n",
      "Kurtosis:                       4.820   Cond. No.                         6.97\n",
      "==============================================================================\n",
      "\n",
      "Warnings:\n",
      "[1] Standard Errors assume that the covariance matrix of the errors is correctly specified.\n",
      "                            WLS Regression Results                            \n",
      "==============================================================================\n",
      "Dep. Variable:     close_interactions   R-squared:                       0.010\n",
      "Model:                            WLS   Adj. R-squared:                  0.007\n",
      "Method:                 Least Squares   F-statistic:                     4.264\n",
      "Date:                Tue, 19 May 2020   Prob (F-statistic):            0.00195\n",
      "Time:                        09:39:07   Log-Likelihood:                -3295.6\n",
      "No. Observations:                1751   AIC:                             6601.\n",
      "Df Residuals:                    1746   BIC:                             6629.\n",
      "Df Model:                           4                                         \n",
      "Covariance Type:            nonrobust                                         \n",
      "===============================================================================================\n",
      "                                  coef    std err          t      P>|t|      [0.025      0.975]\n",
      "-----------------------------------------------------------------------------------------------\n",
      "Intercept                       0.5704      0.065      8.727      0.000       0.442       0.699\n",
      "week6[T.True]                   0.0527      0.086      0.616      0.538      -0.115       0.221\n",
      "repub[T.True]                  -0.1497      0.098     -1.535      0.125      -0.341       0.042\n",
      "live_survey[T.True]             0.0573      0.072      0.791      0.429      -0.085       0.199\n",
      "week6[T.True]:repub[T.True]     0.3454      0.131      2.633      0.009       0.088       0.603\n",
      "==============================================================================\n",
      "Omnibus:                     1623.097   Durbin-Watson:                   2.017\n",
      "Prob(Omnibus):                  0.000   Jarque-Bera (JB):            75151.568\n",
      "Skew:                           4.288   Prob(JB):                         0.00\n",
      "Kurtosis:                      33.927   Cond. No.                         6.97\n",
      "==============================================================================\n",
      "\n",
      "Warnings:\n",
      "[1] Standard Errors assume that the covariance matrix of the errors is correctly specified.\n",
      "                            WLS Regression Results                            \n",
      "==============================================================================\n",
      "Dep. Variable:        someone_working   R-squared:                       0.018\n",
      "Model:                            WLS   Adj. R-squared:                  0.016\n",
      "Method:                 Least Squares   F-statistic:                     8.494\n",
      "Date:                Tue, 19 May 2020   Prob (F-statistic):           8.61e-07\n",
      "Time:                        09:39:07   Log-Likelihood:                -1663.3\n",
      "No. Observations:                1897   AIC:                             3337.\n",
      "Df Residuals:                    1892   BIC:                             3364.\n",
      "Df Model:                           4                                         \n",
      "Covariance Type:            nonrobust                                         \n",
      "===============================================================================================\n",
      "                                  coef    std err          t      P>|t|      [0.025      0.975]\n",
      "-----------------------------------------------------------------------------------------------\n",
      "Intercept                       0.4069      0.024     17.261      0.000       0.361       0.453\n",
      "week6[T.True]                  -0.0498      0.031     -1.625      0.104      -0.110       0.010\n",
      "repub[T.True]                  -0.0301      0.034     -0.877      0.381      -0.097       0.037\n",
      "live_survey[T.True]             0.0986      0.025      4.016      0.000       0.050       0.147\n",
      "week6[T.True]:repub[T.True]     0.1506      0.046      3.288      0.001       0.061       0.240\n",
      "==============================================================================\n",
      "Omnibus:                      120.089   Durbin-Watson:                   1.931\n",
      "Prob(Omnibus):                  0.000   Jarque-Bera (JB):              141.420\n",
      "Skew:                           0.662   Prob(JB):                     1.95e-31\n",
      "Kurtosis:                       2.810   Cond. No.                         7.18\n",
      "==============================================================================\n",
      "\n",
      "Warnings:\n",
      "[1] Standard Errors assume that the covariance matrix of the errors is correctly specified.\n"
     ]
    }
   ],
   "source": [
    "for outcome in ['ever_in_group', 'any_close_interactions', \n",
    "                'close_interactions', 'someone_working']:\n",
    "    model = smf.wls(f'{outcome} ~ week6 * repub + live_survey', \n",
    "                    partisans, weights=partisans['weight']).fit()\n",
    "    print(model.summary())"
   ]
  }
 ],
 "metadata": {
  "kernelspec": {
   "display_name": "Python 3",
   "language": "python",
   "name": "python3"
  },
  "language_info": {
   "codemirror_mode": {
    "name": "ipython",
    "version": 3
   },
   "file_extension": ".py",
   "mimetype": "text/x-python",
   "name": "python",
   "nbconvert_exporter": "python",
   "pygments_lexer": "ipython3",
   "version": "3.7.3"
  }
 },
 "nbformat": 4,
 "nbformat_minor": 4
}
