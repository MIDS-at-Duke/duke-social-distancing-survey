{
 "cells": [
  {
   "cell_type": "markdown",
   "metadata": {},
   "source": [
    "# Example Analysis Code\n",
    "\n",
    "What follows are some basic analyses of the Duke Forge/SSRI COVID19 Digital Lab Social Distancing Survey Weeks 1, 2 and 3.\n",
    "\n",
    "Because this is a *weighted* survey, note that simple summary statistics will not accurately reflect population statistics. This notebook includes code that can be easily modified for calculating basically statistics using these weights. \n",
    "\n",
    "Also note that many variables have top-codes of `9`. This is because surveys were conducted with automated calling, so respondents had to punch in values on their phones. Thus be careful in interpreting top-values. Pre-processing of many variables can be found in `10_code/20_add_analysis_vars.py`. \n",
    "\n",
    "The code the follows is written in Python and requires both the `pandas` and `statsmodels` packages, both of which can easily be installed using `conda` or `pip`. \n",
    "\n",
    "R users who wish to do their own analyses will likely find the `Survey` package to be of use. \n",
    "\n",
    "Note this data includes ALL responses, including partials. As a result, the composition of your sample may change if you start using demographic controls that occur later in the survey (and thus are less likely to be included for a given respondent). "
   ]
  },
  {
   "cell_type": "markdown",
   "metadata": {},
   "source": [
    "## Replicating Number of Children Per Household\n",
    "\n",
    "Before analysis, we being by replicating one of the summary statistics provided by the firm that conducted this survey. Top-line summary statistics from the survey firm can be found in `40_reports/Survey_Summaries`. \n",
    "\n",
    "In particular, we'll replicate the share of households with No Children, One Child, and Two Children. The survey firm has reported that, after adjusting for weights, the proportion of households of each type are: \n",
    "\n",
    "- No Children: 61\\% (Week 1), 63\\% (Week 2), 64\\% (week 3)\n",
    "- One Child: 14\\% (Week 1), 14\\% (Week 2), 15% (Week 3)\n",
    "- Two Children: 17\\% (Week 1), 14\\% (Week 2), 12% (week 3)"
   ]
  },
  {
   "cell_type": "code",
   "execution_count": 1,
   "metadata": {},
   "outputs": [
    {
     "data": {
      "text/plain": [
       "Index(['Unnamed: 0', 'uniqueID', 'Date', 'Voter File Match',\n",
       "       'Registered Voter (of Voter File Matches)', 'weight',\n",
       "       'Q1. Health Quality', 'age', 'DEMOGRAPHICS - GENDER',\n",
       "       'Q4. Number of People in HH', 'Q5. Children in HH',\n",
       "       'Q6. Non-HH Face to Face Count', 'Q7. Six Feet Away? (If Q6 > 0)',\n",
       "       'Q8. HH Member Going to Work',\n",
       "       'Q9. Children Interacting with Other Children ',\n",
       "       'Q10. Times in Group > 20 in Last Week', 'Family', 'Friends',\n",
       "       'Co-workers', 'Clients, patients, or patrons',\n",
       "       'Any other type of person not already mentioned',\n",
       "       'Q12. Handwashing Count',\n",
       "       'Q13. Currently Practicing Social Distancing?',\n",
       "       'Q14. Currently Experiencing Symptoms?',\n",
       "       'Q15. Likelihood of getting Coronavirus',\n",
       "       'Q16. NC Response to Coronavirus', 'Q17. Changes to Routine ',\n",
       "       'Q18. College Degree', 'Q19. Latino', 'Q20. Race',\n",
       "       'Q21. Panel Willingness', 'Q19-20. Race + Ethnicity', 'Survey Mode',\n",
       "       'DEMOGRAPHICS - RACE ON FILE', 'MEDIA MARKET', 'PARTY', 'TURNOUT',\n",
       "       'DEMOGRAPHICS - PARTY ON FILE', 'tax_score', 'CHOICE',\n",
       "       'CHURCH ATTENDANCE', 'CLIMATE CHANGE PRIORITY', 'COLLEGE',\n",
       "       'GUN CONTROL', 'GUN OWNER', 'PROGRESSIVE GUN OWNER', 'tv_cable',\n",
       "       'tv_satellite', 'tv_broadcast', 'cellphone_score', 'commercial_party',\n",
       "       'MARIJUANA', 'low_tv', 'trump_approve_score', 'retired_score',\n",
       "       'county_name', 'Completed Survey', 'week', 'Panel Respondent', 'week1',\n",
       "       'week2', 'week3', 'week4', 'full_sample', 'close_interactions',\n",
       "       'any_close_interactions', 'ever_in_group', 'someone_working', 'race',\n",
       "       'age_ranges'],\n",
       "      dtype='object')"
      ]
     },
     "execution_count": 1,
     "metadata": {},
     "output_type": "execute_result"
    }
   ],
   "source": [
    "# Load the cleaned, and labeled version \n",
    "# of the survey. \n",
    "# The code that generates this cleaned data\n",
    "# can be found in `10_import_and_format_week1.py`. \n",
    "\n",
    "import pandas as pd\n",
    "import numpy as np\n",
    "\n",
    "svy = pd.read_csv('../20_analysis_datasets/'\n",
    "                  'merged_surveys_w_analysis_vars.csv')\n",
    "svy.columns"
   ]
  },
  {
   "cell_type": "markdown",
   "metadata": {},
   "source": [
    "Now let's add a few convenience vars: "
   ]
  },
  {
   "cell_type": "markdown",
   "metadata": {},
   "source": [
    "Note that all variables up to Q21 are questions asked in this survey. Subsequent variables come largely from Clarity Campaigns, which has done its best to match survey respondents with an internal database built off other sources. Information on these variables can be found in `40_reports`. "
   ]
  },
  {
   "cell_type": "code",
   "execution_count": 2,
   "metadata": {},
   "outputs": [],
   "source": [
    "# Make split samples\n",
    "svy1 = svy[svy['week1']].copy()\n",
    "svy2 = svy[svy['week2']].copy()\n",
    "svy3 = svy[svy['week3']].copy()"
   ]
  },
  {
   "cell_type": "code",
   "execution_count": 3,
   "metadata": {},
   "outputs": [
    {
     "data": {
      "text/plain": [
       "5228"
      ]
     },
     "execution_count": 3,
     "metadata": {},
     "output_type": "execute_result"
    }
   ],
   "source": [
    "len(svy)"
   ]
  },
  {
   "cell_type": "markdown",
   "metadata": {},
   "source": [
    "Now we can replicate results from Clarity. For this we will rely on the `DescrStatsW` function from `statsmodels`. [Documentation can be found here](https://www.statsmodels.org/stable/generated/statsmodels.stats.weightstats.DescrStatsW.html), but the basic idea is that it takes a vector of data, a vector of weights, and then returns various weighted statistics. "
   ]
  },
  {
   "cell_type": "code",
   "execution_count": 4,
   "metadata": {},
   "outputs": [
    {
     "name": "stdout",
     "output_type": "stream",
     "text": [
      "Share of households with None kids in week1 is 60.8%\n",
      "Share of households with One kids in week1 is 14.3%\n",
      "Share of households with Two kids in week1 is 16.9%\n",
      "Share of households with None kids in week2 is 62.3%\n",
      "Share of households with One kids in week2 is 13.7%\n",
      "Share of households with Two kids in week2 is 14.1%\n",
      "Share of households with None kids in week3 is 63.3%\n",
      "Share of households with One kids in week3 is 15.1%\n",
      "Share of households with Two kids in week3 is 11.7%\n"
     ]
    }
   ],
   "source": [
    "from statsmodels.stats.weightstats import DescrStatsW\n",
    "\n",
    "for week in ['week1', 'week2', 'week3']:\n",
    "    \n",
    "    oneweek = svy[svy[week]].copy()\n",
    "    for num in ['None', 'One', 'Two']:\n",
    "        oneweek[num] = oneweek['Q5. Children in HH'] == num\n",
    "        temp = oneweek[pd.notnull(oneweek['Q5. Children in HH'])]    \n",
    "        w = DescrStatsW(temp[num], temp['weight'])\n",
    "        print(f\"Share of households with {num} kids in {week} is {w.mean:.1%}\")"
   ]
  },
  {
   "cell_type": "markdown",
   "metadata": {},
   "source": [
    "Of course, calculating overall averages is only kinda interesting. Generally, we want to know statistics for sub-populations. Normally, we'd just do this using the `groupby` operator, but things are a little more complicated with weighting. \n",
    "\n",
    "To begin, let's again calculate the proportion of households with different numbers of children using groupby for the trivial case where everyone is in the same group. Once we know that works, we can start looking at more interesting sub-populations. "
   ]
  },
  {
   "cell_type": "code",
   "execution_count": 5,
   "metadata": {},
   "outputs": [
    {
     "name": "stdout",
     "output_type": "stream",
     "text": [
      "Share households with None kids in Week 1: 60.8%\n",
      "Share households with One kids in Week 1: 14.3%\n",
      "Share households with Two kids in Week 1: 16.9%\n"
     ]
    }
   ],
   "source": [
    "def get_group_mean(data, question):\n",
    "    temp = data[[question, 'weight']]\n",
    "    temp = temp[pd.notnull(temp[question])]\n",
    "    wsvy = DescrStatsW(temp[question], temp['weight'])\n",
    "    return wsvy.mean\n",
    "\n",
    "for num in ['None', 'One', 'Two']:\n",
    "    week1 = svy[svy['week1']].copy()\n",
    "    week1[num] = (week1['Q5. Children in HH'] == num)\n",
    "    week1 = week1[pd.notnull(week1['Q5. Children in HH'])]    \n",
    "\n",
    "    raw = week1[num].mean()\n",
    "\n",
    "    w = week1.groupby('full_sample').apply(lambda x: get_group_mean(x, num))\n",
    "    w = w.iloc[0]\n",
    "    \n",
    "    print(f'Share households with {num} kids in Week 1: {w:.1%}')"
   ]
  },
  {
   "cell_type": "markdown",
   "metadata": {},
   "source": [
    "Great! Now let's break down number of children by race. To do this, we'll first re-code race since most categories are too small to be statistically valuable:"
   ]
  },
  {
   "cell_type": "markdown",
   "metadata": {},
   "source": [
    "Now we can look at number of children by racial group:"
   ]
  },
  {
   "cell_type": "code",
   "execution_count": 6,
   "metadata": {},
   "outputs": [
    {
     "data": {
      "text/plain": [
       "Q19-20. Race + Ethnicity\n",
       "Black    0.592688\n",
       "Other    0.460425\n",
       "White    0.596882\n",
       "dtype: float64"
      ]
     },
     "execution_count": 6,
     "metadata": {},
     "output_type": "execute_result"
    }
   ],
   "source": [
    "race = 'Q19-20. Race + Ethnicity'\n",
    "svy['None'] = svy['Q5. Children in HH'] == 'None'\n",
    "temp = svy[pd.notnull(svy['Q5. Children in HH'])]\n",
    "svy.groupby(race).apply(lambda x: get_group_mean(x, 'None'))"
   ]
  },
  {
   "cell_type": "markdown",
   "metadata": {},
   "source": [
    "## Analyzing COVID-Related Outcomes\n",
    "\n",
    "Now that we've gotten the basics of working with weighted survey data out of the way (and by comparing our calculated values to known outcomes from the survey firm, we know we've done it correctly), let's start looking at some COVID-related variables!"
   ]
  },
  {
   "cell_type": "markdown",
   "metadata": {},
   "source": [
    "### Large Groups\n",
    "\n",
    "A key question in our analysis is whether people have been in large groups in the last week. Note that because this survey was conducted on the 29th, 30th, and 31st, most North Carolineans were not yet under a \"shelter-in-place\" order during the week preceding this survey, so we wouldn't expect people's answers to \"How many times have you been in a group of > 20 people in the last week\" to be all zeros!\n",
    "\n",
    "Note that `9` is a top-code here, so values of `9` mean \"9 or greater\"."
   ]
  },
  {
   "cell_type": "code",
   "execution_count": 7,
   "metadata": {},
   "outputs": [
    {
     "name": "stdout",
     "output_type": "stream",
     "text": [
      "In week1, the number of (reported) times people had been in groups > 20 was:\n",
      "Q10. Times in Group > 20 in Last Week\n",
      "0.0    0.746319\n",
      "1.0    0.114472\n",
      "2.0    0.038606\n",
      "3.0    0.016420\n",
      "4.0    0.008605\n",
      "5.0    0.013843\n",
      "6.0    0.004725\n",
      "7.0    0.005151\n",
      "8.0    0.001168\n",
      "9.0    0.050691\n",
      "dtype: float64\n",
      "\n",
      "\n",
      "In week2, the number of (reported) times people had been in groups > 20 was:\n",
      "Q10. Times in Group > 20 in Last Week\n",
      "0.0    0.786261\n",
      "1.0    0.097194\n",
      "2.0    0.046486\n",
      "3.0    0.017138\n",
      "4.0    0.004666\n",
      "5.0    0.009612\n",
      "6.0    0.008975\n",
      "7.0    0.001183\n",
      "8.0    0.000541\n",
      "9.0    0.027944\n",
      "dtype: float64\n",
      "\n",
      "\n",
      "In week3, the number of (reported) times people had been in groups > 20 was:\n",
      "Q10. Times in Group > 20 in Last Week\n",
      "0.0    0.786749\n",
      "1.0    0.095527\n",
      "2.0    0.041902\n",
      "3.0    0.012926\n",
      "4.0    0.005501\n",
      "5.0    0.017040\n",
      "6.0    0.003151\n",
      "7.0    0.006315\n",
      "8.0    0.002234\n",
      "9.0    0.028654\n",
      "dtype: float64\n",
      "\n",
      "\n"
     ]
    }
   ],
   "source": [
    "# Get weighted proportions in each category\n",
    "big_group = 'Q10. Times in Group > 20 in Last Week'\n",
    "\n",
    "for week in ['week1', 'week2', 'week3']:\n",
    "    def get_group_sumweights(data, question):\n",
    "        temp = data[[question, 'weight']]\n",
    "        temp = temp[pd.notnull(temp[question])]\n",
    "        wsvy = DescrStatsW(temp[question], temp['weight'])\n",
    "        return wsvy.sum_weights\n",
    "\n",
    "    temp = svy[svy['week'] == week]\n",
    "    sums = temp.groupby(big_group).apply(lambda x: get_group_sumweights(x, big_group))\n",
    "    proportions = sums / sums.sum()\n",
    "    print(f'In {week}, the number of (reported) times people had been in groups > 20 was:')\n",
    "    print(proportions)\n",
    "    print('\\n')"
   ]
  },
  {
   "cell_type": "markdown",
   "metadata": {},
   "source": [
    "So clearly the *vast* majority of people haven't been in big groups (or won't admit to it). So let's just look at the share of people who've EVER been in a big group in the last year, and see how it breaks down by sub-population. "
   ]
  },
  {
   "cell_type": "code",
   "execution_count": 8,
   "metadata": {},
   "outputs": [
    {
     "name": "stdout",
     "output_type": "stream",
     "text": [
      "share ever a large group in week week1\n",
      "25.4%\n",
      "\n",
      "\n",
      "share ever a large group in week week2\n",
      "21.4%\n",
      "\n",
      "\n",
      "share ever a large group in week week3\n",
      "21.3%\n",
      "\n",
      "\n"
     ]
    }
   ],
   "source": [
    "for week in ['week1', 'week2', 'week3']:\n",
    "    print(f'share ever a large group in week {week}')\n",
    "    print(f\"{svy[svy[week]].groupby('full_sample').apply(lambda x: get_group_mean(x, 'ever_in_group')).iloc[0]:.1%}\")\n",
    "    print('\\n')"
   ]
  },
  {
   "cell_type": "code",
   "execution_count": 9,
   "metadata": {},
   "outputs": [
    {
     "name": "stdout",
     "output_type": "stream",
     "text": [
      "share ever a large group in week week1\n",
      "age_ranges\n",
      "35 - 55    0.216389\n",
      "55 - 65    0.283741\n",
      "< 35       0.240695\n",
      "> 65       0.306654\n",
      "dtype: float64\n",
      "\n",
      "\n",
      "share ever a large group in week week2\n",
      "age_ranges\n",
      "35 - 55    0.168526\n",
      "55 - 65    0.252119\n",
      "< 35       0.174079\n",
      "> 65       0.325449\n",
      "dtype: float64\n",
      "\n",
      "\n",
      "share ever a large group in week week3\n",
      "age_ranges\n",
      "35 - 55    0.189855\n",
      "55 - 65    0.275588\n",
      "< 35       0.135362\n",
      "> 65       0.287055\n",
      "dtype: float64\n",
      "\n",
      "\n"
     ]
    }
   ],
   "source": [
    "# And by Age\n",
    "for week in ['week1', 'week2', 'week3']:\n",
    "    print(f'share ever a large group in week {week}')\n",
    "    print(f\"{svy[svy.week == week].groupby('age_ranges').apply(lambda x: get_group_mean(x, 'ever_in_group'))}\")\n",
    "    print('\\n')"
   ]
  },
  {
   "cell_type": "code",
   "execution_count": 10,
   "metadata": {},
   "outputs": [
    {
     "data": {
      "text/plain": [
       "age_ranges\n",
       "35 - 55    0.191836\n",
       "55 - 65    0.269285\n",
       "< 35       0.179659\n",
       "> 65       0.306619\n",
       "dtype: float64"
      ]
     },
     "execution_count": 10,
     "metadata": {},
     "output_type": "execute_result"
    }
   ],
   "source": [
    "avg_num = svy.groupby('age_ranges').apply(lambda x: get_group_mean(x, 'ever_in_group'))\n",
    "avg_num"
   ]
  },
  {
   "cell_type": "code",
   "execution_count": 11,
   "metadata": {},
   "outputs": [
    {
     "data": {
      "text/html": [
       "<div>\n",
       "<style scoped>\n",
       "    .dataframe tbody tr th:only-of-type {\n",
       "        vertical-align: middle;\n",
       "    }\n",
       "\n",
       "    .dataframe tbody tr th {\n",
       "        vertical-align: top;\n",
       "    }\n",
       "\n",
       "    .dataframe thead th {\n",
       "        text-align: right;\n",
       "    }\n",
       "</style>\n",
       "<table border=\"1\" class=\"dataframe\">\n",
       "  <thead>\n",
       "    <tr style=\"text-align: right;\">\n",
       "      <th></th>\n",
       "      <th>378</th>\n",
       "    </tr>\n",
       "  </thead>\n",
       "  <tbody>\n",
       "    <tr>\n",
       "      <th>Unnamed: 0</th>\n",
       "      <td>378</td>\n",
       "    </tr>\n",
       "    <tr>\n",
       "      <th>uniqueID</th>\n",
       "      <td>379</td>\n",
       "    </tr>\n",
       "    <tr>\n",
       "      <th>Date</th>\n",
       "      <td>2020-03-30</td>\n",
       "    </tr>\n",
       "    <tr>\n",
       "      <th>Voter File Match</th>\n",
       "      <td>Yes</td>\n",
       "    </tr>\n",
       "    <tr>\n",
       "      <th>Registered Voter (of Voter File Matches)</th>\n",
       "      <td>Yes</td>\n",
       "    </tr>\n",
       "    <tr>\n",
       "      <th>...</th>\n",
       "      <td>...</td>\n",
       "    </tr>\n",
       "    <tr>\n",
       "      <th>any_close_interactions</th>\n",
       "      <td>0</td>\n",
       "    </tr>\n",
       "    <tr>\n",
       "      <th>ever_in_group</th>\n",
       "      <td>1</td>\n",
       "    </tr>\n",
       "    <tr>\n",
       "      <th>someone_working</th>\n",
       "      <td>0</td>\n",
       "    </tr>\n",
       "    <tr>\n",
       "      <th>race</th>\n",
       "      <td>Black</td>\n",
       "    </tr>\n",
       "    <tr>\n",
       "      <th>age_ranges</th>\n",
       "      <td>&gt; 65</td>\n",
       "    </tr>\n",
       "  </tbody>\n",
       "</table>\n",
       "<p>70 rows × 1 columns</p>\n",
       "</div>"
      ],
      "text/plain": [
       "                                                 378\n",
       "Unnamed: 0                                       378\n",
       "uniqueID                                         379\n",
       "Date                                      2020-03-30\n",
       "Voter File Match                                 Yes\n",
       "Registered Voter (of Voter File Matches)         Yes\n",
       "...                                              ...\n",
       "any_close_interactions                             0\n",
       "ever_in_group                                      1\n",
       "someone_working                                    0\n",
       "race                                           Black\n",
       "age_ranges                                      > 65\n",
       "\n",
       "[70 rows x 1 columns]"
      ]
     },
     "execution_count": 11,
     "metadata": {},
     "output_type": "execute_result"
    }
   ],
   "source": [
    "svy1.sample().T"
   ]
  },
  {
   "cell_type": "markdown",
   "metadata": {},
   "source": [
    "Some small differences. Clarity provides a \"likelihood people attend church\" we can check to see if that's driving things (Black North Carolineans have slightly higher likelihood of attending church, says Clarity data):"
   ]
  },
  {
   "cell_type": "code",
   "execution_count": 12,
   "metadata": {},
   "outputs": [
    {
     "data": {
      "text/plain": [
       "Q19-20. Race + Ethnicity\n",
       "Black    3.352280\n",
       "Other    2.628803\n",
       "White    3.104852\n",
       "dtype: float64"
      ]
     },
     "execution_count": 12,
     "metadata": {},
     "output_type": "execute_result"
    }
   ],
   "source": [
    "svy.groupby(race).apply(\n",
    "    lambda x: get_group_mean(x, 'CHURCH ATTENDANCE'))"
   ]
  },
  {
   "cell_type": "markdown",
   "metadata": {},
   "source": [
    "We can also look for variation in likelihood by education -- appears those without college degree more likely to be in groups. "
   ]
  },
  {
   "cell_type": "code",
   "execution_count": 13,
   "metadata": {},
   "outputs": [
    {
     "data": {
      "text/plain": [
       "Q18. College Degree\n",
       "4         [0.0]\n",
       "No     0.266648\n",
       "Yes    0.178007\n",
       "dtype: object"
      ]
     },
     "execution_count": 13,
     "metadata": {},
     "output_type": "execute_result"
    }
   ],
   "source": [
    "educ = 'Q18. College Degree'\n",
    "avg_num = svy1.groupby(educ).apply(\n",
    "    lambda x: get_group_mean(x, 'ever_in_group'))\n",
    "avg_num"
   ]
  },
  {
   "cell_type": "markdown",
   "metadata": {},
   "source": [
    "## Distancing in last 24 hours\n",
    "\n",
    "The survey also asks about number of people with whom one has had face-to-face interactions in the last 24 hours, then in how many of those interactions was the respondent able to maintain social distance. The difference is num of people they weren't able to keep distance with. \n",
    "\n",
    "However, note top-codes make interpreting this a little tricky..."
   ]
  },
  {
   "cell_type": "code",
   "execution_count": 14,
   "metadata": {},
   "outputs": [
    {
     "data": {
      "text/plain": [
       "close_interactions\n",
       "0.0    0.757763\n",
       "1.0    0.106005\n",
       "2.0    0.069115\n",
       "3.0    0.030573\n",
       "4.0    0.012364\n",
       "5.0    0.007400\n",
       "6.0    0.006449\n",
       "7.0    0.008483\n",
       "8.0    0.001847\n",
       "dtype: float64"
      ]
     },
     "execution_count": 14,
     "metadata": {},
     "output_type": "execute_result"
    }
   ],
   "source": [
    "sums = svy1.groupby('close_interactions').apply(\n",
    "           lambda x: get_group_sumweights(x, 'close_interactions'))\n",
    "proportions = sums / sums.sum()\n",
    "proportions"
   ]
  },
  {
   "cell_type": "markdown",
   "metadata": {},
   "source": [
    "So 11% said they had at least one interaction without distancing week 1, and..."
   ]
  },
  {
   "cell_type": "code",
   "execution_count": 15,
   "metadata": {},
   "outputs": [
    {
     "data": {
      "text/plain": [
       "close_interactions\n",
       "0.0    0.767109\n",
       "1.0    0.087397\n",
       "2.0    0.086595\n",
       "3.0    0.034958\n",
       "4.0    0.006986\n",
       "5.0    0.011499\n",
       "6.0    0.002079\n",
       "7.0    0.002146\n",
       "8.0    0.001231\n",
       "dtype: float64"
      ]
     },
     "execution_count": 15,
     "metadata": {},
     "output_type": "execute_result"
    }
   ],
   "source": [
    "sums = svy2.groupby('close_interactions').apply(\n",
    "           lambda x: get_group_sumweights(x, 'close_interactions'))\n",
    "proportions = sums / sums.sum()\n",
    "proportions"
   ]
  },
  {
   "cell_type": "markdown",
   "metadata": {},
   "source": [
    "Nearly the same in week 2..."
   ]
  },
  {
   "cell_type": "code",
   "execution_count": 35,
   "metadata": {},
   "outputs": [
    {
     "name": "stdout",
     "output_type": "stream",
     "text": [
      "for age range < 35:\n",
      "close_interactions\n",
      "0.0    0.734960\n",
      "1.0    0.096784\n",
      "2.0    0.091326\n",
      "3.0    0.034632\n",
      "dtype: float64\n",
      "for age range 35 - 55:\n",
      "close_interactions\n",
      "0.0    0.797518\n",
      "1.0    0.080136\n",
      "2.0    0.068961\n",
      "3.0    0.024890\n",
      "dtype: float64\n",
      "for age range 55 - 65:\n",
      "close_interactions\n",
      "0.0    0.789022\n",
      "1.0    0.090469\n",
      "2.0    0.057130\n",
      "3.0    0.032189\n",
      "dtype: float64\n",
      "for age range > 65:\n",
      "close_interactions\n",
      "0.0    0.779158\n",
      "1.0    0.115527\n",
      "2.0    0.051339\n",
      "3.0    0.028885\n",
      "dtype: float64\n"
     ]
    }
   ],
   "source": [
    "for i in ['< 35', '35 - 55', '55 - 65', '> 65']:\n",
    "    sums = svy[svy['age_ranges'] == i].groupby('close_interactions').apply(\n",
    "                                              lambda x: get_group_sumweights(x, 'close_interactions'))\n",
    "    proportions = sums / sums.sum()\n",
    "    print(f'for age range {i}:')\n",
    "    print(proportions.iloc[0:4])"
   ]
  },
  {
   "cell_type": "code",
   "execution_count": 36,
   "metadata": {},
   "outputs": [
    {
     "name": "stdout",
     "output_type": "stream",
     "text": [
      "for college degree: Yes:\n",
      "close_interactions\n",
      "0.0    0.815381\n",
      "1.0    0.087411\n",
      "2.0    0.048914\n",
      "3.0    0.021707\n",
      "dtype: float64\n",
      "for college degree: No:\n",
      "close_interactions\n",
      "0.0    0.761081\n",
      "1.0    0.093688\n",
      "2.0    0.076615\n",
      "3.0    0.033916\n",
      "dtype: float64\n"
     ]
    }
   ],
   "source": [
    "for i in ['Yes', 'No']:\n",
    "    sums = svy[svy['Q18. College Degree'] == i].groupby('close_interactions').apply(\n",
    "                                              lambda x: get_group_sumweights(x, 'close_interactions'))\n",
    "    proportions = sums / sums.sum()\n",
    "    print(f'for college degree: {i}:')\n",
    "    print(proportions.iloc[0:4])"
   ]
  },
  {
   "cell_type": "markdown",
   "metadata": {},
   "source": [
    "# Reasons for being near people\n"
   ]
  },
  {
   "cell_type": "code",
   "execution_count": 29,
   "metadata": {},
   "outputs": [
    {
     "name": "stdout",
     "output_type": "stream",
     "text": [
      "Within last 24 hours have you been within 10 feet of a Family:\n",
      "69.42%\n",
      "Within last 24 hours have you been within 10 feet of a Friends:\n",
      "20.00%\n",
      "Within last 24 hours have you been within 10 feet of a Co-workers:\n",
      "21.21%\n",
      "Within last 24 hours have you been within 10 feet of a Clients, patients, or patrons:\n",
      "12.92%\n"
     ]
    }
   ],
   "source": [
    "for i in ['Family', 'Friends', 'Co-workers', 'Clients, patients, or patrons']:\n",
    "    svy[f'near_{i}'] = (svy[i] == 'Yes').astype('int')\n",
    "    svy.loc[pd.isnull(svy[i]), f'near_{i}'] = np.nan\n",
    "    avgs = get_group_mean(svy, f'near_{i}')\n",
    "    print(f\"Within last 24 hours have you been within 10 feet of a {i}:\")\n",
    "    print(f'{avgs:.2%}')"
   ]
  },
  {
   "cell_type": "code",
   "execution_count": 31,
   "metadata": {},
   "outputs": [
    {
     "data": {
      "text/plain": [
       "No        0.602773\n",
       "Yes       0.374860\n",
       "Unsure    0.022366\n",
       "Name: Q8. HH Member Going to Work, dtype: float64"
      ]
     },
     "execution_count": 31,
     "metadata": {},
     "output_type": "execute_result"
    }
   ],
   "source": [
    "work = 'Q8. HH Member Going to Work'\n",
    "svy[work].value_counts(normalize=True)"
   ]
  },
  {
   "cell_type": "code",
   "execution_count": 34,
   "metadata": {},
   "outputs": [
    {
     "name": "stdout",
     "output_type": "stream",
     "text": [
      "Share of households with someone going to work:\n",
      "Q8. HH Member Going to Work\n",
      "No        0.489973\n",
      "Unsure    0.018572\n",
      "Yes       0.491455\n",
      "dtype: float64\n"
     ]
    }
   ],
   "source": [
    "sums = svy.groupby(work).apply(lambda x: \n",
    "                               get_group_sumweights(x, work))\n",
    "proportions = sums / sums.sum()\n",
    "print(f'Share of households with someone going to work:')\n",
    "print(proportions)"
   ]
  }
 ],
 "metadata": {
  "kernelspec": {
   "display_name": "Python 3",
   "language": "python",
   "name": "python3"
  },
  "language_info": {
   "codemirror_mode": {
    "name": "ipython",
    "version": 3
   },
   "file_extension": ".py",
   "mimetype": "text/x-python",
   "name": "python",
   "nbconvert_exporter": "python",
   "pygments_lexer": "ipython3",
   "version": "3.7.3"
  }
 },
 "nbformat": 4,
 "nbformat_minor": 4
}
