{
 "cells": [
  {
   "cell_type": "markdown",
   "metadata": {},
   "source": [
    "# Example Analysis Code\n",
    "\n",
    "What follows are some basic analyses of the Duke Forge/SSRI COVID19 Digital Lab Social Distancing Survey Week 1. This data includes survey responses from March 29 through March 31st. \n",
    "\n",
    "Because this is a *weighted* survey, note that simple summary statistics will not accurately reflect population statistics. This notebook includes code that can be easily modified for calculating basically statistics using these weights. \n",
    "\n",
    "Also note that many variables have top-codes of `9`. This is because surveys were conducted with automated calling, so respondents had to punch in values on their phones. Thus be careful in interpreting top-values. \n",
    "\n",
    "The code the follows is written in Python and requires both the `pandas` and `statsmodels` packages, both of which can easily be installed using `conda` or `pip`. \n",
    "\n",
    "R users who wish to do their own analyses will likely find the `Survey` package to be of use. "
   ]
  },
  {
   "cell_type": "markdown",
   "metadata": {},
   "source": [
    "## Replicating Number of Children Per Household\n",
    "\n",
    "Before analysis, we being by replicating one of the summary statistics provided by the firm that conducted this survey. In particular, the survey firm has reported that, after adjusting for weights, the proportion of households with No Children, One Child, or Two Children are 60\\%, 15\\%, and 17\\% respectively. We replicate those estimates here. "
   ]
  },
  {
   "cell_type": "code",
   "execution_count": 10,
   "metadata": {},
   "outputs": [
    {
     "data": {
      "text/plain": [
       "Index(['Unnamed: 0', 'uniqueID', 'Date', 'Voter File Match',\n",
       "       'Registered Voter (of Voter File Matches)', 'weight',\n",
       "       'Q1. Health Quality', 'age', 'DEMOGRAPHICS - GENDER',\n",
       "       'Q4. Number of People in HH', 'Q5. Children in HH',\n",
       "       'Q6. Non-HH Face to Face Count', 'Q7. Six Feet Away? (If Q6 > 0)',\n",
       "       'Q8. HH Member Going to Work',\n",
       "       'Q9. Children Interacting with Other Children ',\n",
       "       'Q10. Times in Group > 20 in Last Week', 'Family', 'Friends',\n",
       "       'Co-workers', 'Clients, patients, or patrons',\n",
       "       'Any other type of person not already mentioned',\n",
       "       'Q12. Handwashing Count',\n",
       "       'Q13. Currently Practicing Social Distancing?',\n",
       "       'Q14. Currently Experiencing Symptoms?',\n",
       "       'Q15. Likelihood of getting Coronavirus',\n",
       "       'Q16. NC Response to Coronavirus', 'Q17. Changes to Routine ',\n",
       "       'Q18. College Degree', 'Q19. Latino', 'Q20. Race',\n",
       "       'Q21. Panel Willingness', 'Q19-20. Race + Ethnicity', 'Survey Mode',\n",
       "       'DEMOGRAPHICS - RACE ON FILE', 'MEDIA MARKET', 'PARTY', 'TURNOUT',\n",
       "       'DEMOGRAPHICS - PARTY ON FILE', 'tax_score', 'CHOICE',\n",
       "       'CHURCH ATTENDANCE', 'CLIMATE CHANGE PRIORITY', 'COLLEGE',\n",
       "       'GUN CONTROL', 'GUN OWNER', 'PROGRESSIVE GUN OWNER', 'tv_cable',\n",
       "       'tv_satellite', 'tv_broadcast', 'cellphone_score', 'commercial_party',\n",
       "       'MARIJUANA', 'low_tv', 'trump_approve_score', 'retired_score',\n",
       "       'county_name'],\n",
       "      dtype='object')"
      ]
     },
     "execution_count": 10,
     "metadata": {},
     "output_type": "execute_result"
    }
   ],
   "source": [
    "# Load the cleaned, and labeled version \n",
    "# of the survey. \n",
    "# The code that generates this cleaned data\n",
    "# can be found in `10_import_and_format_week1.py`. \n",
    "\n",
    "import pandas as pd\n",
    "import numpy as np\n",
    "\n",
    "svy = pd.read_csv('../00_raw_data/'\n",
    "                  '20200401_duke_covid_survey/'\n",
    "                  'raw_survey_data_202004_CLEANED.csv')\n",
    "svy.columns"
   ]
  },
  {
   "cell_type": "markdown",
   "metadata": {},
   "source": [
    "Note that all variables up to Q21 are questions asked in this survey. Subsequent variables come largely from Clarity Campaigns, which has done its best to match survey respondents with an internal database built off other sources. Information on these variables can be found in `00_raw_data/20200401_duke_covid_survey/`. "
   ]
  },
  {
   "cell_type": "code",
   "execution_count": 11,
   "metadata": {},
   "outputs": [
    {
     "data": {
      "text/plain": [
       "1274"
      ]
     },
     "execution_count": 11,
     "metadata": {},
     "output_type": "execute_result"
    }
   ],
   "source": [
    "len(svy)"
   ]
  },
  {
   "cell_type": "markdown",
   "metadata": {},
   "source": [
    "Now we can replicate results from Clarity. For this we will rely on the `DescrStatsW` function from `statsmodels`. [Documentation can be found here](https://www.statsmodels.org/stable/generated/statsmodels.stats.weightstats.DescrStatsW.html), but the basic idea is that it takes a vector of data, a vector of weights, and then returns various weighted statistics. "
   ]
  },
  {
   "cell_type": "code",
   "execution_count": 12,
   "metadata": {},
   "outputs": [
    {
     "name": "stdout",
     "output_type": "stream",
     "text": [
      "Share of households with None kids is 0.599\n",
      "Share of households with One kids is 0.151\n",
      "Share of households with Two kids is 0.171\n"
     ]
    }
   ],
   "source": [
    "from statsmodels.stats.weightstats import DescrStatsW\n",
    "\n",
    "for num in ['None', 'One', 'Two']:\n",
    "    svy[num] = svy['Q5. Children in HH'] == num\n",
    "    w = DescrStatsW(svy[num], svy['weight'])\n",
    "    print(f\"Share of households with {num} kids is {w.mean:.3f}\")"
   ]
  },
  {
   "cell_type": "markdown",
   "metadata": {},
   "source": [
    "Of course, calculating overall averages is only kinda interesting. Generally, we want to know statistics for sub-populations. Normally, we'd just do this using the `groupby` operator, but things are a little more complicated with weighting. \n",
    "\n",
    "To begin, let's again calculate the proportion of households with different numbers of children using groupby for the trivial case where everyone is in the same group. Once we know that works, we can start looking at more interesting sub-populations. "
   ]
  },
  {
   "cell_type": "code",
   "execution_count": 13,
   "metadata": {},
   "outputs": [
    {
     "name": "stdout",
     "output_type": "stream",
     "text": [
      "Share households with None kids: 0.599\n",
      "Share households with One kids: 0.151\n",
      "Share households with Two kids: 0.171\n"
     ]
    }
   ],
   "source": [
    "def get_group_mean(data, question):\n",
    "    temp = data[[question, 'weight']]\n",
    "    temp = temp[pd.notnull(temp[question])]\n",
    "    wsvy = DescrStatsW(temp[question], temp['weight'])\n",
    "    return wsvy.mean\n",
    "\n",
    "for num in ['None', 'One', 'Two']:\n",
    "    svy[num] = svy['Q5. Children in HH'] == num\n",
    "    svy['dummy'] = 1\n",
    "\n",
    "    raw = svy[num].mean()\n",
    "\n",
    "    w = svy.groupby('dummy').apply(lambda x: get_group_mean(x, num))\n",
    "    w = w.iloc[0]\n",
    "    \n",
    "    print(f'Share households with {num} kids: {w:.3f}')"
   ]
  },
  {
   "cell_type": "markdown",
   "metadata": {},
   "source": [
    "Great! Now let's break down number of children by race. To do this, we'll first re-code race since most categories are too small to be statistically valuable:"
   ]
  },
  {
   "cell_type": "code",
   "execution_count": 14,
   "metadata": {},
   "outputs": [
    {
     "data": {
      "text/plain": [
       "White                 928\n",
       "Black                 236\n",
       "Hispanic or Latino     51\n",
       "Another race           39\n",
       "Asian                  20\n",
       "Name: Q19-20. Race + Ethnicity, dtype: int64"
      ]
     },
     "execution_count": 14,
     "metadata": {},
     "output_type": "execute_result"
    }
   ],
   "source": [
    "# Values before grouping\n",
    "race = 'Q19-20. Race + Ethnicity'\n",
    "svy[race].value_counts()"
   ]
  },
  {
   "cell_type": "code",
   "execution_count": 15,
   "metadata": {},
   "outputs": [
    {
     "data": {
      "text/plain": [
       "White    928\n",
       "Black    236\n",
       "Other    110\n",
       "Name: Q19-20. Race + Ethnicity, dtype: int64"
      ]
     },
     "execution_count": 15,
     "metadata": {},
     "output_type": "execute_result"
    }
   ],
   "source": [
    "svy[race] = svy[race].replace({'Asian': 'Other',\n",
    "                               'Hispanic or Latino': 'Other',\n",
    "                               'Another race': 'Other'})\n",
    "svy[race].value_counts()"
   ]
  },
  {
   "cell_type": "markdown",
   "metadata": {},
   "source": [
    "Now we can look at number of children by racial group:"
   ]
  },
  {
   "cell_type": "code",
   "execution_count": 16,
   "metadata": {},
   "outputs": [
    {
     "data": {
      "text/plain": [
       "Q19-20. Race + Ethnicity\n",
       "Black    0.632850\n",
       "Other    0.539235\n",
       "White    0.601377\n",
       "dtype: float64"
      ]
     },
     "execution_count": 16,
     "metadata": {},
     "output_type": "execute_result"
    }
   ],
   "source": [
    "svy['None'] = svy['Q5. Children in HH'] == 'None'\n",
    "svy.groupby(race).apply(lambda x: get_group_mean(x, 'None'))"
   ]
  },
  {
   "cell_type": "markdown",
   "metadata": {},
   "source": [
    "## Analyzing COVID-Related Outcomes\n",
    "\n",
    "Now that we've gotten the basics of working with weighted survey data out of the way (and by comparing our calculated values to known outcomes from the survey firm, we know we've done it correctly), let's start looking at some COVID-related variables!"
   ]
  },
  {
   "cell_type": "markdown",
   "metadata": {},
   "source": [
    "### Large Groups\n",
    "\n",
    "A key question in our analysis is whether people have been in large groups in the last week. Note that because this survey was conducted on the 29th, 30th, and 31st, most North Carolineans were not yet under a \"shelter-in-place\" order during the week preceding this survey, so we wouldn't expect people's answers to \"How many times have you been in a group of > 20 people in the last week\" to be all zeros!\n",
    "\n",
    "Note that `9` is a top-code here, so values of `9` mean \"9 or greater\"."
   ]
  },
  {
   "cell_type": "code",
   "execution_count": 19,
   "metadata": {},
   "outputs": [
    {
     "data": {
      "text/plain": [
       "Q10. Times in Group > 20 in Last Week\n",
       "0.0    0.795307\n",
       "1.0    0.085695\n",
       "2.0    0.039488\n",
       "3.0    0.019599\n",
       "4.0    0.003209\n",
       "5.0    0.011107\n",
       "6.0    0.005033\n",
       "7.0    0.002025\n",
       "9.0    0.038537\n",
       "dtype: float64"
      ]
     },
     "execution_count": 19,
     "metadata": {},
     "output_type": "execute_result"
    }
   ],
   "source": [
    "# Get weighted proportions in each category\n",
    "big_group = 'Q10. Times in Group > 20 in Last Week'\n",
    "\n",
    "def get_group_sumweights(data, question):\n",
    "    temp = data[[question, 'weight']]\n",
    "    temp = temp[pd.notnull(temp[question])]\n",
    "    wsvy = DescrStatsW(temp[question], temp['weight'])\n",
    "    return wsvy.sum_weights\n",
    "\n",
    "sums = svy.groupby(big_group).apply(lambda x: get_group_sumweights(x, big_group))\n",
    "proportions = sums / sums.sum()\n",
    "proportions"
   ]
  },
  {
   "cell_type": "markdown",
   "metadata": {},
   "source": [
    "So clearly the *vast* majority of people haven't been in big groups (or won't admit to it). So let's just look at the share of people who've EVER been in a big group in the last year, and see how it breaks down by sub-population. "
   ]
  },
  {
   "cell_type": "code",
   "execution_count": 23,
   "metadata": {},
   "outputs": [
    {
     "data": {
      "text/plain": [
       "Q19-20. Race + Ethnicity\n",
       "Black    0.232377\n",
       "Other    0.250658\n",
       "White    0.189627\n",
       "dtype: float64"
      ]
     },
     "execution_count": 23,
     "metadata": {},
     "output_type": "execute_result"
    }
   ],
   "source": [
    "svy['any_group']= (svy[big_group] > 0) & pd.notnull(svy[big_group])\n",
    "svy.loc[pd.isnull(svy[big_group]), 'any_group'] = np.nan\n",
    "\n",
    "race = 'Q19-20. Race + Ethnicity'\n",
    "avg_num = svy.groupby(race).apply(lambda x: get_group_mean(x, 'any_group'))\n",
    "avg_num"
   ]
  },
  {
   "cell_type": "markdown",
   "metadata": {},
   "source": [
    "Some small differences. Clarity provides a \"likelihood people attend church\" we can check to see if that's driving things (Black North Carolineans have slightly higher likelihood of attending church, says Clarity data):"
   ]
  },
  {
   "cell_type": "code",
   "execution_count": 27,
   "metadata": {},
   "outputs": [
    {
     "data": {
      "text/plain": [
       "Q19-20. Race + Ethnicity\n",
       "Black    3.478403\n",
       "Other    2.414467\n",
       "White    2.922348\n",
       "dtype: float64"
      ]
     },
     "execution_count": 27,
     "metadata": {},
     "output_type": "execute_result"
    }
   ],
   "source": [
    "svy.groupby(race).apply(\n",
    "    lambda x: get_group_mean(x, 'CHURCH ATTENDANCE'))"
   ]
  },
  {
   "cell_type": "markdown",
   "metadata": {},
   "source": [
    "We can also look for variation in likelihood by education -- appears those without college degree more likely to be in groups. "
   ]
  },
  {
   "cell_type": "code",
   "execution_count": 29,
   "metadata": {},
   "outputs": [
    {
     "data": {
      "text/plain": [
       "Q18. College Degree\n",
       "No     0.268921\n",
       "Yes    0.176835\n",
       "dtype: float64"
      ]
     },
     "execution_count": 29,
     "metadata": {},
     "output_type": "execute_result"
    }
   ],
   "source": [
    "educ = 'Q18. College Degree'\n",
    "avg_num = svy.groupby(educ).apply(\n",
    "    lambda x: get_group_mean(x, 'any_group'))\n",
    "avg_num"
   ]
  },
  {
   "cell_type": "markdown",
   "metadata": {},
   "source": [
    "## Distancing in last 24 hours\n",
    "\n",
    "The survey also asks about number of people with whom one has had face-to-face interactions in the last 24 hours, then in how many of those interactions was the respondent able to maintain social distance. The difference is num of people they weren't able to keep distance with. \n",
    "\n",
    "However, note top-codes make interpreting this a little tricky..."
   ]
  },
  {
   "cell_type": "code",
   "execution_count": 39,
   "metadata": {},
   "outputs": [],
   "source": [
    "svy['close_interacts'] = (svy['Q6. Non-HH Face to Face Count'] - \n",
    "                          svy['Q7. Six Feet Away? (If Q6 > 0)'])\n",
    "svy.loc[svy['Q6. Non-HH Face to Face Count'] == 0, 'close_interacts'] = 0\n",
    "svy.loc[svy['Q6. Non-HH Face to Face Count'] == 9, 'close_interacts'] = np.nan"
   ]
  },
  {
   "cell_type": "code",
   "execution_count": 40,
   "metadata": {},
   "outputs": [
    {
     "data": {
      "text/plain": [
       " 0.0    795\n",
       " 1.0    125\n",
       " 2.0     58\n",
       " 3.0     25\n",
       " 4.0     17\n",
       "-1.0     13\n",
       " 5.0      8\n",
       " 7.0      6\n",
       " 6.0      6\n",
       "-3.0      5\n",
       "-4.0      4\n",
       "-6.0      4\n",
       "-2.0      4\n",
       "-7.0      3\n",
       "-8.0      2\n",
       " 8.0      2\n",
       "-5.0      1\n",
       "Name: close_interacts, dtype: int64"
      ]
     },
     "execution_count": 40,
     "metadata": {},
     "output_type": "execute_result"
    }
   ],
   "source": [
    "svy.close_interacts.value_counts()"
   ]
  },
  {
   "cell_type": "markdown",
   "metadata": {},
   "source": [
    "OK, negatives are clearly junk..."
   ]
  },
  {
   "cell_type": "code",
   "execution_count": 41,
   "metadata": {},
   "outputs": [],
   "source": [
    "svy.loc[svy['close_interacts'] < 0, 'close_interacts'] = 0"
   ]
  },
  {
   "cell_type": "code",
   "execution_count": 43,
   "metadata": {},
   "outputs": [
    {
     "data": {
      "text/plain": [
       "close_interacts\n",
       "0.0    0.774122\n",
       "1.0    0.106074\n",
       "2.0    0.058568\n",
       "3.0    0.019922\n",
       "4.0    0.017027\n",
       "5.0    0.005028\n",
       "6.0    0.005419\n",
       "7.0    0.009362\n",
       "8.0    0.004479\n",
       "dtype: float64"
      ]
     },
     "execution_count": 43,
     "metadata": {},
     "output_type": "execute_result"
    }
   ],
   "source": [
    "sums = svy.groupby('close_interacts').apply(\n",
    "           lambda x: get_group_sumweights(x, 'close_interacts'))\n",
    "proportions = sums / sums.sum()\n",
    "proportions"
   ]
  },
  {
   "cell_type": "markdown",
   "metadata": {},
   "source": [
    "So 11% said they had at least one interaction without distancing. "
   ]
  }
 ],
 "metadata": {
  "kernelspec": {
   "display_name": "Python 3",
   "language": "python",
   "name": "python3"
  },
  "language_info": {
   "codemirror_mode": {
    "name": "ipython",
    "version": 3
   },
   "file_extension": ".py",
   "mimetype": "text/x-python",
   "name": "python",
   "nbconvert_exporter": "python",
   "pygments_lexer": "ipython3",
   "version": "3.7.3"
  }
 },
 "nbformat": 4,
 "nbformat_minor": 4
}
